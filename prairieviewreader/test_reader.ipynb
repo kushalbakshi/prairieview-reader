{
 "cells": [
  {
   "cell_type": "markdown",
   "metadata": {},
   "source": [
    "```@schema\n",
    "class ScanInfo(dj.Imported):\n",
    "    definition = \"\"\" # general data about the reso/meso scans from header\n",
    "    -> Scan\n",
    "    ---\n",
    "    nfields              : tinyint   # number of fields\n",
    "    nchannels            : tinyint   # number of channels\n",
    "    ndepths              : int       # Number of scanning depths (planes)\n",
    "    nframes              : int       # number of recorded frames\n",
    "    nrois                : tinyint   # number of ROIs (see scanimage's multi ROI imaging)\n",
    "    x=null               : float     # (um) ScanImage's 0 point in the motor coordinate system\n",
    "    y=null               : float     # (um) ScanImage's 0 point in the motor coordinate system\n",
    "    z=null               : float     # (um) ScanImage's 0 point in the motor coordinate system\n",
    "    fps                  : float     # (Hz) frames per second - Volumetric Scan Rate \n",
    "    bidirectional        : boolean   # true = bidirectional scanning\n",
    "    usecs_per_line=null  : float     # microseconds per scan line\n",
    "    fill_fraction=null   : float     # raster scan temporal fill fraction (see scanimage)\n",
    "    scan_datetime=null   : datetime  # datetime of the scan\n",
    "    scan_duration=null   : float     # (seconds) duration of the scan\n",
    "    \"\"\"\n",
    "\n",
    "    class Field(dj.Part):\n",
    "        definition = \"\"\" # field-specific scan information\n",
    "        -> master\n",
    "        field_idx         : int\n",
    "        ---\n",
    "        px_height         : smallint  # height in pixels\n",
    "        px_width          : smallint  # width in pixels\n",
    "        um_height=null    : float     # height in microns\n",
    "        um_width=null     : float     # width in microns\n",
    "        field_x=null      : float     # (um) center of field in the motor coordinate system\n",
    "        field_y=null      : float     # (um) center of field in the motor coordinate system\n",
    "        field_z=null      : float     # (um) relative depth of field\n",
    "        delay_image=null  : longblob  # (ms) delay between the start of the scan and pixels in this field\n",
    "        roi=null          : int       # the scanning roi (as recorded in the acquisition software) containing this field - only relevant to mesoscale scans\n",
    "        \"\"\"\n",
    "        ```"
   ]
  },
  {
   "cell_type": "code",
   "execution_count": 36,
   "metadata": {},
   "outputs": [],
   "source": [
    "import xml.etree.ElementTree as ET\n",
    "import numpy as np\n",
    "from datetime import datetime"
   ]
  },
  {
   "cell_type": "code",
   "execution_count": 37,
   "metadata": {},
   "outputs": [],
   "source": [
    "tree = ET.parse(\"../user_data/A_1040736_Ses_1_Planes_3_LP241_Gain_740-001.xml\")\n",
    "root = tree.getroot()"
   ]
  },
  {
   "cell_type": "code",
   "execution_count": 38,
   "metadata": {},
   "outputs": [],
   "source": [
    "nfields = 1      # Resonance scanner"
   ]
  },
  {
   "cell_type": "code",
   "execution_count": 4,
   "metadata": {},
   "outputs": [],
   "source": [
    "channel_list = list()\n",
    "channels = root.iterfind(\".//Sequence/Frame/File/[@channel]\")\n",
    "for channel in channels:\n",
    "    channel_list.append(int(channel.attrib.get('channel')))\n",
    "nchannels = np.unique(channel_list).shape[0]"
   ]
  },
  {
   "cell_type": "code",
   "execution_count": 41,
   "metadata": {},
   "outputs": [
    {
     "data": {
      "text/plain": [
       "[<Element 'Frame' at 0x0000017ACB9CA180>,\n",
       " <Element 'Frame' at 0x0000017ACB9CA4F0>,\n",
       " <Element 'Frame' at 0x0000017ACB9CA720>]"
      ]
     },
     "execution_count": 41,
     "metadata": {},
     "output_type": "execute_result"
    }
   ],
   "source": [
    "root.findall(\".//Sequence/[@cycle='1']/Frame\")"
   ]
  },
  {
   "cell_type": "code",
   "execution_count": 42,
   "metadata": {},
   "outputs": [],
   "source": [
    "planes_list = []\n",
    "planes = root.findall(\".//Sequence/[@cycle='1']/Frame\")\n",
    "for plane in planes:\n",
    "    planes_list.append(int(plane.attrib.get('index')))\n",
    "\n",
    "ndepths = np.unique(planes_list).shape[0]"
   ]
  },
  {
   "cell_type": "code",
   "execution_count": 5,
   "metadata": {},
   "outputs": [],
   "source": [
    "planes_list = list()\n",
    "planes = root.iterfind(\".//Sequence/Frame/[@index]\")\n",
    "for plane in planes:\n",
    "    planes_list.append(int(plane.attrib.get('index')))\n",
    "\n",
    "ndepths = np.unique(planes_list).shape[0]"
   ]
  },
  {
   "cell_type": "code",
   "execution_count": 6,
   "metadata": {},
   "outputs": [],
   "source": [
    "n_frames = root.findall('.//Sequence')[-1].attrib.get('cycle')"
   ]
  },
  {
   "cell_type": "code",
   "execution_count": 7,
   "metadata": {},
   "outputs": [],
   "source": [
    "roi = 1     # Resonance scanner"
   ]
  },
  {
   "cell_type": "code",
   "execution_count": 8,
   "metadata": {},
   "outputs": [],
   "source": [
    "x_coordinate = root.find(\".//PVStateValue/[@key='currentScanCenter']/IndexedValue/[@index='XAxis']\").attrib.get('value')\n",
    "\n",
    "y_coordinate = root.find(\".//PVStateValue/[@key='currentScanCenter']/IndexedValue/[@index='YAxis']\").attrib.get('value')\n",
    "\n",
    "z_coordinate = root.find(\".//PVStateValue/[@key='positionCurrent']/SubindexedValues/[@index='ZAxis']/SubindexedValue/[@subindex='0']\").attrib.get('value')"
   ]
  },
  {
   "cell_type": "code",
   "execution_count": 13,
   "metadata": {},
   "outputs": [
    {
     "data": {
      "text/plain": [
       "'200'"
      ]
     },
     "execution_count": 13,
     "metadata": {},
     "output_type": "execute_result"
    }
   ],
   "source": [
    "z_coordinate"
   ]
  },
  {
   "cell_type": "code",
   "execution_count": 9,
   "metadata": {},
   "outputs": [],
   "source": [
    "frame_rate = np.divide(1, float(root.findall('.//PVStateValue/[@key=\"framePeriod\"]')[0].attrib.get('value')))   # rate = 1/framePeriod"
   ]
  },
  {
   "cell_type": "code",
   "execution_count": 10,
   "metadata": {},
   "outputs": [],
   "source": [
    "scan_datetime = datetime.strptime(root.attrib.get('date'), \"%m/%d/%Y %I:%M:%S %p\")"
   ]
  },
  {
   "cell_type": "code",
   "execution_count": 11,
   "metadata": {},
   "outputs": [],
   "source": [
    "usec_per_line = float(root.findall(\".//PVStateValue/[@key='scanLinePeriod']\")[0].attrib.get('value')) * 1000    # multiply to convert to microseconds"
   ]
  },
  {
   "cell_type": "code",
   "execution_count": 29,
   "metadata": {},
   "outputs": [],
   "source": [
    "px_height = root.findall(\".//PVStateValue/[@key='pixelsPerLine']\")[0].attrib.get('value')\n",
    "px_width = px_height    # All PrairieView-acquired images have square dimensions (512 x 512; 1024 x 1024)"
   ]
  },
  {
   "cell_type": "code",
   "execution_count": 17,
   "metadata": {},
   "outputs": [
    {
     "data": {
      "text/plain": [
       "[<Element 'Frame' at 0x0000017AA2D2C180>,\n",
       " <Element 'Frame' at 0x0000017AA2D2C4F0>,\n",
       " <Element 'Frame' at 0x0000017AA2D2C720>]"
      ]
     },
     "execution_count": 17,
     "metadata": {},
     "output_type": "execute_result"
    }
   ],
   "source": [
    "root.findall(\".//Sequence/[@cycle='1']/Frame\")"
   ]
  },
  {
   "cell_type": "code",
   "execution_count": 14,
   "metadata": {},
   "outputs": [],
   "source": [
    "bidirectionalZ = bool(root.find(\".//Sequence\").attrib.get('bidirectionalZ'))"
   ]
  },
  {
   "cell_type": "markdown",
   "metadata": {},
   "source": [
    "Make a list through ndepths. Reverse it, and pass it as the new index value"
   ]
  },
  {
   "cell_type": "markdown",
   "metadata": {},
   "source": [
    "idx_range = list(range(1, ndepths+1))\n",
    "rev_idx = idx_range[::-1]"
   ]
  },
  {
   "cell_type": "markdown",
   "metadata": {},
   "source": [
    "ndepths = 3\n",
    "idx_range = list(range(1, ndepths+1))\n",
    "rev_idx = idx_range[::-1]\n",
    "for sequence in root.findall(\".//Sequence/[@cycle]\"):\n",
    "    if int(sequence.attrib.get('cycle')) % 2 == 0:\n",
    "        frames = sequence.findall(\".//Frame\")\n",
    "        "
   ]
  },
  {
   "cell_type": "markdown",
   "metadata": {},
   "source": [
    "[(count, frame) for count, frame in enumerate(sequence.findall(\".//Frame\"))]"
   ]
  },
  {
   "cell_type": "code",
   "execution_count": null,
   "metadata": {},
   "outputs": [],
   "source": [
    "for node in root.findall(\".//Sequence/[@cycle]\"):\n",
    "    if int(node.attrib.get('cycle')) % 2 == 0:\n",
    "        tags = node.findall(\"./Frame\")\n",
    "        for tag in tags:\n",
    "            try:\n",
    "                idx = int(tag.attrib.get('index'))\n",
    "                if idx == 3:\n",
    "                    tag.attrib['index'] = '1'\n",
    "                elif idx == 1:\n",
    "                    tag.attrib['index'] = '3'\n",
    "                else:\n",
    "                    pass\n",
    "            except TypeError:\n",
    "                pass"
   ]
  },
  {
   "cell_type": "code",
   "execution_count": null,
   "metadata": {},
   "outputs": [],
   "source": [
    "sequences = root.findall(\".//Sequence\")\n",
    "for seq in sequences:\n",
    "    cycle = int(seq.attrib.get('cycle'))\n",
    "    max_cycle_idx = cycle * ndepths\n",
    "    frames = seq.findall(\".//Frame\")\n",
    "    for idx in range(0, ndepths):\n",
    "        index = seq.findall(\".//Frame\")[idx].attrib.get('index')\n",
    "        field_idx = max_cycle_idx - (ndepths-int(index))\n",
    "        frames[idx].set('field_idx', str(field_idx))       \n"
   ]
  },
  {
   "cell_type": "code",
   "execution_count": 19,
   "metadata": {},
   "outputs": [],
   "source": [
    "um_per_pixel = float(root.find(\".//PVStateValue/[@key='micronsPerPixel']/IndexedValue/[@index='XAxis']\").attrib.get('value'))\n",
    "um_height = float(root.findall(\".//PVStateValue/[@key='pixelsPerLine']\")[0].attrib.get('value')) * um_per_pixel\n",
    "um_width = um_height    # All PrairieView-acquired images have square dimensions (512 x 512; 1024 x 1024)"
   ]
  },
  {
   "cell_type": "code",
   "execution_count": 23,
   "metadata": {},
   "outputs": [],
   "source": [
    "total_duration = root.findall(\".//Sequence/Frame\")[-1].attrib.get('relativeTime')"
   ]
  },
  {
   "cell_type": "code",
   "execution_count": 24,
   "metadata": {},
   "outputs": [
    {
     "data": {
      "text/plain": [
       "'932.081788005'"
      ]
     },
     "execution_count": 24,
     "metadata": {},
     "output_type": "execute_result"
    }
   ],
   "source": [
    "total_duration"
   ]
  },
  {
   "cell_type": "code",
   "execution_count": 20,
   "metadata": {},
   "outputs": [
    {
     "data": {
      "text/plain": [
       "742.0"
      ]
     },
     "execution_count": 20,
     "metadata": {},
     "output_type": "execute_result"
    }
   ],
   "source": [
    "um_height"
   ]
  },
  {
   "cell_type": "code",
   "execution_count": 30,
   "metadata": {},
   "outputs": [],
   "source": [
    "meta = dict(\n",
    "        num_fields = nfields,\n",
    "        num_channels = nchannels,\n",
    "        num_planes = ndepths,\n",
    "        num_frames = n_frames,\n",
    "        num_rois = roi,\n",
    "        x_pos = x_coordinate,\n",
    "        y_pos = y_coordinate,\n",
    "        z_pos = z_coordinate,\n",
    "        bidirectional_z = bidirectionalZ,\n",
    "        scan_datetime = scan_datetime,\n",
    "        scan_duration = total_duration, \n",
    "        height_in_pixels = px_height,\n",
    "        width_in_pixels = px_width,\n",
    "        height_in_um = um_height,\n",
    "        width_in_um = um_width,\n",
    "    )"
   ]
  },
  {
   "cell_type": "code",
   "execution_count": 35,
   "metadata": {},
   "outputs": [
    {
     "data": {
      "text/plain": [
       "1"
      ]
     },
     "execution_count": 35,
     "metadata": {},
     "output_type": "execute_result"
    }
   ],
   "source": [
    "meta[\"num_fields\"]"
   ]
  },
  {
   "cell_type": "code",
   "execution_count": null,
   "metadata": {},
   "outputs": [],
   "source": []
  }
 ],
 "metadata": {
  "kernelspec": {
   "display_name": "Python 3.9.12 ('elementsPractice')",
   "language": "python",
   "name": "python3"
  },
  "language_info": {
   "codemirror_mode": {
    "name": "ipython",
    "version": 3
   },
   "file_extension": ".py",
   "mimetype": "text/x-python",
   "name": "python",
   "nbconvert_exporter": "python",
   "pygments_lexer": "ipython3",
   "version": "3.9.12"
  },
  "orig_nbformat": 4,
  "vscode": {
   "interpreter": {
    "hash": "28657e2c4c8fc87d9c51bab987cae00550904d22e795ba7dc84df7e29d09653b"
   }
  }
 },
 "nbformat": 4,
 "nbformat_minor": 2
}
